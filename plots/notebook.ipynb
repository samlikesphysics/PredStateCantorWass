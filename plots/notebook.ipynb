{
 "cells": [
  {
   "cell_type": "code",
   "execution_count": 1,
   "metadata": {},
   "outputs": [],
   "source": [
    "from typing import Iterator,Tuple\n",
    "from functools import reduce\n",
    "from operator import concat\n",
    "\n",
    "import numpy as np\n",
    "from numpy.lib.stride_tricks import sliding_window_view\n",
    "from scipy.stats import wasserstein_distance, poisson, geom, bernoulli\n",
    "import scipy.cluster.hierarchy as sch\n",
    "from scipy.spatial.distance import squareform\n",
    "from sklearn.manifold import MDS\n",
    "\n",
    "import matplotlib.pyplot as plt\n",
    "from matplotlib.cm import get_cmap\n",
    "from matplotlib.colors import rgb2hex\n",
    "import plotly.graph_objects as go\n",
    "\n",
    "from tqdm import tqdm\n",
    "\n",
    "cmap = get_cmap('tab10')(np.linspace(0,1,10))\n",
    "sch.set_link_color_palette([rgb2hex(rgb[:3]) for rgb in cmap])\n"
   ]
  },
  {
   "cell_type": "markdown",
   "metadata": {},
   "source": [
    "# Dependencies"
   ]
  },
  {
   "cell_type": "markdown",
   "metadata": {},
   "source": [
    "This code was written in Python 3.7, and depends on some standard Python packages (`typing`, `operator`, and\n",
    "`functools`) as well as additional but commonly-used packages for data science\n",
    "(`numpy`, `scipy`, `scikit-learn`) and visualization (`matplotlib`, `plotly`), as\n",
    "well as the `tqdm` package for progress bars when generating data/running long\n",
    "code. The versions used are:\n",
    "\n",
    "| Package | Version |\n",
    "|---------|---------|\n",
    "| `numpy`   | 1.20.1 |\n",
    "| `scipy`   | 1.7.0 |\n",
    "| `scikit-learn` | 1.0.1 |\n",
    "| `matplotlib` | 3.5.1 |\n",
    "| `plotly` | 4.14.3 |\n",
    "| `tqdm` | 4.61.0 |\n"
   ]
  },
  {
   "cell_type": "markdown",
   "metadata": {},
   "source": [
    "# Basic functions"
   ]
  },
  {
   "cell_type": "markdown",
   "metadata": {},
   "source": [
    "### The Cantor Embedding"
   ]
  },
  {
   "cell_type": "markdown",
   "metadata": {},
   "source": [
    "The function `cantor` receives a sequence of symbols and an alphabet from which\n",
    "the symbols are drawn, and returns the Cantor embedding of the sequence, as\n",
    "defined in our paper:\n",
    "\n",
    "$$\n",
    "C(x_1\\dots x_k) = \\sum_{\\ell=1}^k \\frac{2J_{x_\\ell}}{(2|\\mathcal{A}|-1)^\\ell}\n",
    "$$\n",
    "\n",
    "where $\\mathcal{A}$ is the alphabet and $J_x$ (corresponding to the function\n",
    "`encode` below) encodes each unique $x\\in\\mathcal{A}$\n",
    "as an integer in $1,\\dots,|\\mathcal{A}|$."
   ]
  },
  {
   "cell_type": "code",
   "execution_count": 2,
   "metadata": {},
   "outputs": [],
   "source": [
    "def encode(\n",
    "    b:str,              # A symbol\n",
    "    alphabet:np.ndarray # Array of possible symbols\n",
    ")->int:    \n",
    "    \"\"\"\n",
    "    This computes J_b.\n",
    "    \"\"\" \n",
    "    return np.where(alphabet==b)[0][0]\n",
    "\n",
    "def cantor(\n",
    "    bs:np.ndarray,      # A sequence of symbols\n",
    "    alphabet:np.ndarray # Array of possible symbols\n",
    ")->float:\n",
    "    \"\"\"\n",
    "    This computes the Cantor embedding as a sum.\n",
    "    \"\"\"     \n",
    "    A = len(alphabet)\n",
    "    return sum([2*encode(b,alphabet)/(2*A-1)**(l+1) for l,b in enumerate(bs)])"
   ]
  },
  {
   "cell_type": "markdown",
   "metadata": {},
   "source": [
    "### Time-series plots"
   ]
  },
  {
   "cell_type": "markdown",
   "metadata": {},
   "source": [
    "The next code block implements Algorithm 1 from the paper, which parses a time\n",
    "series and, for a given past length and future length, collects the set of\n",
    "unique past words, Cantor embeddings of the future words, and the Wasserstein\n",
    "matrix constructed from empirical Cantor distributions. We also include a method\n",
    "which generates pairs of past Cantor embeddings with future Cantor embeddings,\n",
    "for use in the 2D Cantor plots in Fig. 1 of the paper."
   ]
  },
  {
   "cell_type": "code",
   "execution_count": 3,
   "metadata": {},
   "outputs": [],
   "source": [
    "def PF_pairs(\n",
    "    Xs:np.ndarray,  # Time series of categorical observations\n",
    "    LP:int=2,       # Desired length of past words\n",
    "    LF:int=2        # Desired length of future words\n",
    ")->Iterator[tuple]:\n",
    "    \"\"\"\n",
    "    Creates an iterator containing all observed pairs of (past word, future word).\n",
    "    \"\"\"\n",
    "    return ((wind[0:LP],wind[LP:LP+LF]) for wind in sliding_window_view(Xs,LP+LF))\n",
    "        \n",
    "def CantorWasserstein(\n",
    "        pairs:Iterator[tuple]  # Iterator of (past,future) pairs\n",
    ")->Tuple[np.ndarray,list,np.ndarray]:\n",
    "    \"\"\"\n",
    "    Returns an array containing all unique past words observed, a list\n",
    "    containing, for each unique past, a list of all future words seen with that\n",
    "    past, and a Wasserstein distance matrix in compressed form (that is,\n",
    "    containing only the upper triangular part, since the full matrix is symmetric).\n",
    "    \"\"\"\n",
    "    # This extracts the list of pasts and list of futures from the list of pairs\n",
    "    ps,fs = zip(*pairs)     \n",
    "    # Cantor embedding all futures\n",
    "    f_cantors = np.array([cantor(b,alphabet) for b in tqdm(list(fs),desc='Cantor embedding futures')])\n",
    "    # Collect unique pasts using np.unique, and pull all futures seen adjacent to each unique past\n",
    "    unq_pasts = np.unique(np.array(list(ps)),axis=0)\n",
    "    cantors = [f_cantors[np.where(np.all(past==ps,axis=1))] for past in tqdm(unq_pasts,desc='Building empirical dists')]\n",
    "    # Compute compressed Wasserstein matrix\n",
    "    pwass = np.array(list(reduce(concat,\n",
    "        [\n",
    "            [wasserstein_distance(cs_k,cs_l) for cs_l in cantors[k+1:]] \n",
    "            for k,cs_k in tqdm(list(enumerate(cantors)),desc='Evaluating condensed Wasserstein matrix')\n",
    "        ]\n",
    "    )))\n",
    "    return unq_pasts,cantors,pwass"
   ]
  },
  {
   "cell_type": "markdown",
   "metadata": {},
   "source": [
    "This code will be used to generate the 2D Cantor plots from Figure 1."
   ]
  },
  {
   "cell_type": "code",
   "execution_count": 41,
   "metadata": {},
   "outputs": [],
   "source": [
    "def cantor_pairs(\n",
    "    pairs:Iterator[tuple]  # Iterator of (past,future) pairs\n",
    ")->Iterator[tuple]:\n",
    "    \"\"\"\n",
    "    Creates an iterator containing pairs of (past,future) cantor embeddings, for\n",
    "    use in the 2D Cantor plots.\n",
    "    \"\"\"\n",
    "    return ((cantor(reversed(p),alphabet),cantor(f,alphabet)) for p,f in tqdm(list(pairs),desc='Computing Cantor pairs'))\n",
    "\n",
    "def scatter_cantor(\n",
    "    Xs:np.ndarray,                  # Time series of categorical observations\n",
    "    LP:int=2,                       # Desired length of past words\n",
    "    LF:int=2,                       # Desired length of future words\n",
    "    figsize:Tuple[int,int]=(5,5)    # Desired figure size\n",
    ")->Tuple[plt.Figure,plt.Axes]:\n",
    "    \"\"\"\n",
    "    Generates the 2D Cantor plot from a time series.\n",
    "    \"\"\"\n",
    "    # Get alphabet of unique categories\n",
    "    alphabet = np.unique(Xs)\n",
    "    A = len(alphabet)\n",
    "    \n",
    "    # Compute pairs of Cantor embeddings, extract past & future lists from pairs\n",
    "    xs,ys = zip(*cantor_pairs(PF_pairs(Xs,LP=LP,LF=LF)))\n",
    "\n",
    "    # Construct the scatter plot\n",
    "    fig,ax = plt.subplots(figsize=figsize)\n",
    "    plt.scatter(x=xs,y=ys,s=1.0,linewidths=0,color='k')\n",
    "\n",
    "    # Setup axes\n",
    "    ax.tick_params('both',length=0,pad=10,which='minor')\n",
    "    step = 1/(2*A-1)\n",
    "\n",
    "    ax.set_xticks(np.arange(0,1+step,step))\n",
    "    ax.set_xticks(np.arange(step/2,1,2*step),minor=True,)\n",
    "    ax.set_yticks(np.arange(0,1+step,step))\n",
    "    ax.set_yticks(np.arange(step/2,1,2*step),minor=True,)\n",
    "    \n",
    "    ax.set_yticklabels(['']*(2*A))\n",
    "    ax.set_yticklabels(alphabet,minor=True,fontfamily='monospace')\n",
    "    ax.set_xticklabels(['']*(2*A))\n",
    "    ax.set_xticklabels(alphabet,minor=True,fontfamily='monospace')\n",
    "    return fig,ax"
   ]
  },
  {
   "cell_type": "markdown",
   "metadata": {},
   "source": [
    "Lastly, we include the code used for generating the clustered Cantor diagrams in\n",
    "Fig. 2 of the paper."
   ]
  },
  {
   "cell_type": "code",
   "execution_count": 25,
   "metadata": {},
   "outputs": [],
   "source": [
    "def cluster_cantor(\n",
    "    unq_pasts:np.ndarray,                   # Array of unique past words\n",
    "    cantors:list,                           # List of empirical Cantor distributions\n",
    "    wass:np.ndarray,                        # Compressed Wasserstein matrix\n",
    "    color_threshold:float=0,                # Distance scale at which to color-code clusters\n",
    "    figsize:Tuple[float,float]=(18,14),     # Figure size\n",
    "    dendro_rect:list=[0.09,0.1,0.2,0.8],    # Dimensions of Y-axis dendrogram: left- and bottom- coordinates + width and height\n",
    "    dist_norm:np.ufunc=np.sqrt,             # Scaling function for dendrogram distance axis\n",
    "    matrix_rect:list=[0.325,0.1,0.6,0.8],   # Dimensions of main plot: left- and bottom- coordinates + width and height\n",
    ")->Tuple[plt.Figure,dict]:\n",
    "    \"\"\"\n",
    "    Generates the clustered Cantor diagram from the pre-processed data\n",
    "    containing the unique pasts, empirical Cantor distributions, and the\n",
    "    Wasserstein matrix. Returns the full figure and a dictionary with the\n",
    "    dendrogram properties (which will be used to extract cluster colors in later\n",
    "    plots).\n",
    "    \"\"\"\n",
    "\n",
    "    # Getting the alphabet\n",
    "    alphabet = np.unique(Xs)\n",
    "    A = len(alphabet)\n",
    "    unq_pasts = np.array([''.join(s) for s in unq_pasts])\n",
    "    \n",
    "    # Creating the figure\n",
    "    fig = plt.figure(figsize=figsize)\n",
    "    axdendro = fig.add_axes(dendro_rect)\n",
    "\n",
    "    # Clustering the Wasserstein matrix and plotting dendrogram\n",
    "    Zpasts = sch.linkage(wass,method='ward')\n",
    "    dist_range = np.linspace(0,np.max(Zpasts[:,2]),5)\n",
    "    Zpasts[:,2] = (dist_norm(Zpasts[:,2]))\n",
    "    with plt.rc_context({'lines.linewidth': 1,}):\n",
    "        Z = sch.dendrogram(Zpasts, orientation='left',color_threshold=dist_norm(color_threshold),above_threshold_color='k')\n",
    "        \n",
    "    # Dendrogram axis features\n",
    "    axdendro.set_xticks(dist_norm(dist_range))\n",
    "    axdendro.set_xticklabels((dist_range).astype(\"|S4\").astype(str),rotation=45,fontsize=14,fontfamily='serif')\n",
    "    axdendro.set_yticks([])\n",
    "    axdendro.set_ylabel('Pasts',fontsize=25,fontfamily='serif')\n",
    "    axdendro.set_xlabel('Distance',fontsize=20,fontfamily='serif')\n",
    "    axdendro.spines['right'].set_visible(False)\n",
    "    axdendro.spines['top'].set_visible(False)\n",
    "    axdendro.spines['left'].set_visible(False)\n",
    "\n",
    "    # Plotting scattered lines for the empirical Cantor samples\n",
    "    axmatrix = fig.add_axes(matrix_rect)\n",
    "    for k,s in axmatrix.spines.items():\n",
    "        s.set_color('k')\n",
    "    index = Z['leaves']\n",
    "    for k,j in enumerate(index):\n",
    "        axmatrix.vlines(cantors[j],k,k+1,linewidth=0.1,color=Z['leaves_color_list'][k])\n",
    "\n",
    "    # Horizontal guidelines\n",
    "    axmatrix.hlines(np.arange(1,len(index)),0,1,linewidth=0.1,color='k')\n",
    "\n",
    "    # Scatter/lineplot axis features\n",
    "    step = 1/(2*A-1)\n",
    "    axmatrix.tick_params('both',length=0,pad=10,which='minor')\n",
    "    axmatrix.set_ylim([0,len(index)])\n",
    "    axmatrix.set_yticks([])\n",
    "    axmatrix.set_yticks(np.arange(0.5,len(index),1),minor=True)\n",
    "    axmatrix.set_yticklabels(unq_pasts[index],minor=True,fontfamily='monospace')\n",
    "    axmatrix.set_xlim([0,1])\n",
    "    axmatrix.set_xticks(np.arange(0,1+step,step))\n",
    "    axmatrix.set_xticks(np.arange(step/2,1,2*step),minor=True,)\n",
    "    axmatrix.set_xticklabels(['']*(2*A))\n",
    "    axmatrix.set_xticklabels(alphabet,minor=True,fontsize=20,fontfamily='monospace')\n",
    "    axmatrix.set_xlabel('Cantor-embedded futures',fontsize=25,fontfamily='serif')\n",
    "    \n",
    "    return fig, Z"
   ]
  },
  {
   "cell_type": "markdown",
   "metadata": {},
   "source": [
    "# Plots"
   ]
  },
  {
   "cell_type": "markdown",
   "metadata": {},
   "source": [
    "The following material generates figures for each process using the above methods as\n",
    "well as additional code, provided below.\n",
    "\n",
    "Roughly, each section contains:\n",
    "\n",
    "1. How to generate the data of the process\n",
    "2. Code generating the 2D Cantor plots from Fig. 1\n",
    "3. Code generating the clustered Cantor diagrams from Fig. 2\n",
    "4. Code generating the MDS coordinate scatter plots from Figs. 3,4\n",
    "\n",
    "For the MDS scatter plots, in all cases (including those not displayed in the\n",
    "paper) we provide a `plotly` interactive scatter plot. These plots allow for\n",
    "zooming in on cluster structure and labeling each point with the corresponding\n",
    "past word, which is useful for interpretation."
   ]
  },
  {
   "cell_type": "markdown",
   "metadata": {},
   "source": [
    "## Fair coin process"
   ]
  },
  {
   "cell_type": "markdown",
   "metadata": {},
   "source": [
    "### Generating data from process rules"
   ]
  },
  {
   "cell_type": "code",
   "execution_count": 26,
   "metadata": {},
   "outputs": [],
   "source": [
    "def gen_faircoin(\n",
    "    n_iter:int=100,     # Total number of coins to flip.\n",
    "    p:float=0.5         # Bernoilli distribution parameter.\n",
    ")->str:\n",
    "    \"\"\"\n",
    "    Generates samples from the fair coin process. This is gerated as a sequence\n",
    "    of n Bernoilli random variables taking a value 0 with probability 1-p and 1\n",
    "    with probability p. The length of the datastream is n_iter.\n",
    "    \"\"\"\n",
    "    seq = bernoulli.rvs(p=p,size=n_iter)\n",
    "    return reduce(concat,map(lambda n:str(n),seq,),'')"
   ]
  },
  {
   "cell_type": "code",
   "execution_count": 27,
   "metadata": {},
   "outputs": [
    {
     "name": "stdout",
     "output_type": "stream",
     "text": [
      "N =  100000\n"
     ]
    }
   ],
   "source": [
    "Xs = np.array([x for x in gen_faircoin(100000)])\n",
    "alphabet = np.unique(Xs)\n",
    "A = len(alphabet)\n",
    "print('N = ',Xs.shape[0])"
   ]
  },
  {
   "cell_type": "markdown",
   "metadata": {},
   "source": [
    "### 2D Cantor Plot"
   ]
  },
  {
   "cell_type": "code",
   "execution_count": 28,
   "metadata": {},
   "outputs": [
    {
     "name": "stderr",
     "output_type": "stream",
     "text": [
      "Computing Cantor pairs: 100%|████████████| 9987/9987 [00:00<00:00, 23946.76it/s]\n"
     ]
    },
    {
     "data": {
      "image/png": "[encoded data removed]",
      "text/plain": [
       "<Figure size 500x500 with 1 Axes>"
      ]
     },
     "metadata": {},
     "output_type": "display_data"
    }
   ],
   "source": [
    "scatter_cantor(Xs[:10000],LP=7,LF=7,figsize=(5,5))\n",
    "plt.title(r'Fair coin process',fontfamily='serif')\n",
    "plt.savefig('faircoin_CANTOR.pdf')\n",
    "plt.show()"
   ]
  },
  {
   "cell_type": "markdown",
   "metadata": {},
   "source": [
    "### Clustered Cantor diagram"
   ]
  },
  {
   "cell_type": "code",
   "execution_count": null,
   "metadata": {},
   "outputs": [],
   "source": [
    "unq_pasts,cantors,wass = CantorWasserstein(PF_pairs(Xs,LP=7,LF=7),)"
   ]
  },
  {
   "cell_type": "code",
   "execution_count": null,
   "metadata": {},
   "outputs": [],
   "source": [
    "fig, Z = cluster_cantor(unq_pasts,cantors,wass,color_threshold=0.17,matrix_rect=[0.34,0.1,0.6,0.8])\n",
    "plt.savefig('faircoin_HCLUST.pdf')\n",
    "plt.show()"
   ]
  },
  {
   "cell_type": "markdown",
   "metadata": {},
   "source": [
    "### MDS Scatter plot (interactive)"
   ]
  },
  {
   "cell_type": "code",
   "execution_count": null,
   "metadata": {},
   "outputs": [],
   "source": [
    "colors_leaves = np.array(Z['leaves_color_list'])\n",
    "colors = np.empty_like(colors_leaves)\n",
    "colors[Z['leaves']] = colors_leaves\n",
    "colors[np.where(colors=='k')] = '#000000'\n",
    "\n",
    "Y = MDS(n_components=2,dissimilarity='precomputed',random_state=0).fit_transform(squareform(wass))\n",
    "unq_pasts_txt = [''.join(s) for s in unq_pasts]\n",
    "fig = go.Figure(\n",
    "    data = [go.Scatter(\n",
    "        x=Y[:,0],y=Y[:,0],mode='markers',hoverinfo='text',text=unq_pasts_txt,\n",
    "        marker_color=colors,marker_opacity=0.5\n",
    "    )],\n",
    ")\n",
    "fig.update_layout(title='Fair coin process (MDS coordinates)')"
   ]
  },
  {
   "cell_type": "markdown",
   "metadata": {},
   "source": [
    "## Even process"
   ]
  },
  {
   "cell_type": "markdown",
   "metadata": {},
   "source": [
    "### Generating data from process rules"
   ]
  },
  {
   "cell_type": "code",
   "execution_count": 29,
   "metadata": {},
   "outputs": [],
   "source": [
    "def gen_even(\n",
    "    n_iter:int=100,     # Total number of 0(11)* blocks to generate.\n",
    "    p:float=0.5         # Geometric distribution parameter.\n",
    ")->str:\n",
    "    \"\"\"\n",
    "    Generates samples from the even process. These are generated as a sequence\n",
    "    of blocks of the form 0(11)^n. n is drawn from the geometric distribution\n",
    "    starting from n=0, with parameter p. The length of the datastream is roughly \n",
    "    ((2-p)/p)*n_iter, or 3*n_iter for the default p=0.5.\n",
    "    \"\"\"\n",
    "    lengths = geom.rvs(p=p,size=n_iter)-1\n",
    "    return reduce(concat,map(lambda n:'0'+'11'*n,lengths,),'')"
   ]
  },
  {
   "cell_type": "code",
   "execution_count": 30,
   "metadata": {},
   "outputs": [
    {
     "name": "stdout",
     "output_type": "stream",
     "text": [
      "N =  300442\n"
     ]
    }
   ],
   "source": [
    "Xs = np.array([x for x in gen_even(100000)])\n",
    "alphabet = np.unique(Xs)\n",
    "A = len(alphabet)\n",
    "print('N = ',Xs.shape[0])"
   ]
  },
  {
   "cell_type": "markdown",
   "metadata": {},
   "source": [
    "### 2D Cantor plot"
   ]
  },
  {
   "cell_type": "code",
   "execution_count": 31,
   "metadata": {},
   "outputs": [
    {
     "name": "stderr",
     "output_type": "stream",
     "text": [
      "Computing Cantor pairs: 100%|████████████| 9987/9987 [00:00<00:00, 23699.64it/s]\n"
     ]
    },
    {
     "data": {
      "image/png": "[encoded data removed]",
      "text/plain": [
       "<Figure size 500x500 with 1 Axes>"
      ]
     },
     "metadata": {},
     "output_type": "display_data"
    }
   ],
   "source": [
    "scatter_cantor(Xs[:10000],LP=7,LF=7,figsize=(5,5))\n",
    "plt.title(r'Even process',fontfamily='serif')\n",
    "plt.savefig('even_CANTOR.pdf')\n",
    "plt.show()"
   ]
  },
  {
   "cell_type": "markdown",
   "metadata": {},
   "source": [
    "### Clustered Cantor diagram"
   ]
  },
  {
   "cell_type": "code",
   "execution_count": null,
   "metadata": {},
   "outputs": [],
   "source": [
    "unq_pasts,cantors,wass = CantorWasserstein(PF_pairs(Xs,LP=7,LF=7),)"
   ]
  },
  {
   "cell_type": "code",
   "execution_count": null,
   "metadata": {},
   "outputs": [],
   "source": [
    "fig, Z = cluster_cantor(unq_pasts,cantors,wass,color_threshold=0.17,matrix_rect=[0.34,0.1,0.6,0.8])\n",
    "plt.savefig('even_HCLUST.pdf')\n",
    "plt.show()"
   ]
  },
  {
   "cell_type": "markdown",
   "metadata": {},
   "source": [
    "### MDS Scatter plot (paper figure & interactive)"
   ]
  },
  {
   "cell_type": "markdown",
   "metadata": {},
   "source": [
    "Sometimes the MDS axes get swapped or flipped depending on small fluctuations in the\n",
    "generated data; therefore, the labels may not be correctly located. You can\n",
    "either regenerate the figure or consult the interactive scatter plot below to\n",
    "determine the meaning of each cluster."
   ]
  },
  {
   "cell_type": "code",
   "execution_count": null,
   "metadata": {},
   "outputs": [],
   "source": [
    "colors_leaves = np.array(Z['leaves_color_list'])\n",
    "colors = np.empty_like(colors_leaves)\n",
    "colors[Z['leaves']] = colors_leaves\n",
    "colors[np.where(colors=='k')] = '#000000'\n",
    "\n",
    "Y = MDS(n_components=2,dissimilarity='precomputed',random_state=0).fit_transform(squareform(wass))\n",
    "fig = plt.figure(figsize=(5,5))\n",
    "plt.scatter(Y[:,0],Y[:,1],edgecolor='k',c=colors,alpha=0.5,)\n",
    "plt.axis('equal')\n",
    "\n",
    "plt.text(0.12, 0.05,r'...$01^{2n}$')\n",
    "plt.text(-0.09, -0.04,r'...$01^{2n+1}$')\n",
    "plt.title(r'Even process',fontfamily='serif')\n",
    "\n",
    "#plt.savefig('even_MDS.pdf')\n",
    "plt.show()"
   ]
  },
  {
   "cell_type": "code",
   "execution_count": null,
   "metadata": {},
   "outputs": [],
   "source": [
    "unq_pasts_txt = [''.join(s) for s in unq_pasts]\n",
    "fig = go.Figure(\n",
    "    data = [go.Scatter(\n",
    "        x=Y[:,0],y=Y[:,0],mode='markers',hoverinfo='text',text=unq_pasts_txt,\n",
    "        marker_color=colors,marker_opacity=0.5\n",
    "    )],\n",
    ")\n",
    "fig.update_layout(title='Even process (MDS coordinates)')"
   ]
  },
  {
   "cell_type": "markdown",
   "metadata": {},
   "source": [
    "## $a^nb^n$ process"
   ]
  },
  {
   "cell_type": "markdown",
   "metadata": {},
   "source": [
    "### Generating data from process rules"
   ]
  },
  {
   "cell_type": "code",
   "execution_count": 32,
   "metadata": {},
   "outputs": [],
   "source": [
    "def gen_anbn(\n",
    "    n_iter:int=100,     # Number of a^n b^n blocks to generate.\n",
    "    mu:float=1.0        # Poisson distribution scale parameter.\n",
    ")->str:\n",
    "    \"\"\"\n",
    "    Generates samples from the a^n b^n process. These are generated as a sequence\n",
    "    of blocks of the form a^n b^n. n is drawn from the Poisson distribution with\n",
    "    parameter mu, starting at 1. The length of the datastream is roughly\n",
    "    2*(mu+1)*n_iter.\n",
    "    \"\"\"\n",
    "    lengths = poisson.rvs(mu=mu,loc=1,size=n_iter)\n",
    "    return reduce(concat,map(lambda n:'a'*n+'b'*n,lengths),'')"
   ]
  },
  {
   "cell_type": "code",
   "execution_count": 33,
   "metadata": {},
   "outputs": [
    {
     "name": "stdout",
     "output_type": "stream",
     "text": [
      "N =  2001320\n"
     ]
    }
   ],
   "source": [
    "Xs = np.array([x for x in gen_anbn(500000)])\n",
    "alphabet = np.unique(Xs)\n",
    "A = len(alphabet)\n",
    "print('N = ',Xs.shape[0])"
   ]
  },
  {
   "cell_type": "markdown",
   "metadata": {},
   "source": [
    "### 2D Cantor plot"
   ]
  },
  {
   "cell_type": "code",
   "execution_count": 34,
   "metadata": {},
   "outputs": [
    {
     "name": "stderr",
     "output_type": "stream",
     "text": [
      "Computing Cantor pairs: 100%|████████████| 9987/9987 [00:00<00:00, 24637.91it/s]\n"
     ]
    },
    {
     "data": {
      "image/png": "[encoded data removed]",
      "text/plain": [
       "<Figure size 500x500 with 1 Axes>"
      ]
     },
     "metadata": {},
     "output_type": "display_data"
    }
   ],
   "source": [
    "scatter_cantor(Xs[:10000],LP=7,LF=7,figsize=(5,5))\n",
    "plt.title(r'$\\mathtt{a}^n \\mathtt{b}^n$ process',fontfamily='serif')\n",
    "plt.savefig('anbn_CANTOR.pdf')\n",
    "plt.show()"
   ]
  },
  {
   "cell_type": "markdown",
   "metadata": {},
   "source": [
    "### Clustered Cantor diagram"
   ]
  },
  {
   "cell_type": "code",
   "execution_count": null,
   "metadata": {},
   "outputs": [],
   "source": [
    "unq_pasts,cantors,wass = CantorWasserstein(PF_pairs(Xs,LP=8,LF=8),)"
   ]
  },
  {
   "cell_type": "code",
   "execution_count": null,
   "metadata": {},
   "outputs": [],
   "source": [
    "fig,Z = cluster_cantor(unq_pasts,cantors,wass,color_threshold=0.05,matrix_rect=[0.34,0.1,0.6,0.8])\n",
    "plt.savefig('anbn_HCLUST.pdf')\n",
    "plt.show()"
   ]
  },
  {
   "cell_type": "markdown",
   "metadata": {},
   "source": [
    "### MDS Scatter plot (paper figure & interactive)"
   ]
  },
  {
   "cell_type": "markdown",
   "metadata": {},
   "source": [
    "Due to fluctuations in the generated data, the exact location of clusters in the\n",
    "scatter plot will shift, and so the labels may be slightly off. For that reason,\n",
    "we provide an interactive figure to determine the meaning of each cluster."
   ]
  },
  {
   "cell_type": "code",
   "execution_count": null,
   "metadata": {},
   "outputs": [],
   "source": [
    "colors_leaves = np.array(Z['leaves_color_list'])\n",
    "colors = np.empty_like(colors_leaves)\n",
    "colors[Z['leaves']] = colors_leaves\n",
    "colors[np.where(colors=='k')] = '#000000'\n",
    "\n",
    "Y = MDS(n_components=2,dissimilarity='precomputed',random_state=0).fit_transform(squareform(wass))\n",
    "fig = plt.figure(figsize=(5,5))\n",
    "plt.scatter(Y[:,0],Y[:,1],edgecolor='k',c=colors,alpha=0.5,)\n",
    "plt.axis('equal')\n",
    "\n",
    "plt.text(-0.27, -0.35,r'...$\\mathtt{ba}^{n}\\mathtt{b}^{n}$')\n",
    "plt.text(-0.18, -0.15,r'...$\\mathtt{ba}$')\n",
    "plt.text(-0.12, 0.09,r'...$\\mathtt{ba}^2$')\n",
    "plt.text(-0.06, 0.2,r'...$\\mathtt{ba}^3$')\n",
    "plt.text(-0.01, 0.24,r'...$\\mathtt{ba}^4$')\n",
    "plt.text(0.03, 0.29,r'...$\\mathtt{ba}^{5,6}$')\n",
    "plt.text(0.15, -0.05,r'...$\\mathtt{ba}^n\\mathtt{b}^{n-1}$')\n",
    "plt.text(0.19, 0.15,r'...$\\mathtt{ba}^n\\mathtt{b}^{n-2}$')\n",
    "plt.text(0.19, 0.235,r'...$\\mathtt{ba}^n\\mathtt{b}^{n-3}$')\n",
    "plt.title(r'$\\mathtt{a}^n \\mathtt{b}^n$ process',fontfamily='serif')\n",
    "plt.savefig('anbn_MDS.pdf')\n",
    "plt.show()\n"
   ]
  },
  {
   "cell_type": "code",
   "execution_count": null,
   "metadata": {},
   "outputs": [],
   "source": [
    "unq_pasts_txt = [''.join(s) for s in unq_pasts]\n",
    "fig = go.Figure(\n",
    "    data = [go.Scatter(\n",
    "        x=Y[:,0],y=Y[:,1],mode='markers',hoverinfo='text',text=unq_pasts_txt,\n",
    "        marker_color=colors,marker_opacity=0.5\n",
    "    )],\n",
    ")\n",
    "fig.update_layout(title=r'anbn process (MDS coordinates)')"
   ]
  },
  {
   "cell_type": "markdown",
   "metadata": {},
   "source": [
    "## $a^n b^n c^n$ process"
   ]
  },
  {
   "cell_type": "markdown",
   "metadata": {},
   "source": [
    "### Generate data from process rules"
   ]
  },
  {
   "cell_type": "code",
   "execution_count": 48,
   "metadata": {},
   "outputs": [],
   "source": [
    "def gen_anbncn_poisson(\n",
    "    n_iter:int=100,     # Number of a^n b^n c^n blocks to generate.\n",
    "    mu:float=1.0        # Poisson distribution scale parameter.\n",
    ")->str:\n",
    "    \"\"\"\n",
    "    Generates samples from the a^n b^n c^n process. These are generated as a sequence\n",
    "    of blocks of the form a^n b^n c^n. n is drawn from the Poisson distribution with\n",
    "    parameter mu, starting at 1. The length of the datastream is roughly\n",
    "    3*(mu+1)*n_iter.\n",
    "    \"\"\"\n",
    "    lengths = poisson.rvs(mu=mu,loc=1,size=n_iter)\n",
    "    return reduce(concat,map(lambda n:'a'*n+'b'*n+'c'*n,lengths),'')"
   ]
  },
  {
   "cell_type": "code",
   "execution_count": 49,
   "metadata": {},
   "outputs": [
    {
     "name": "stdout",
     "output_type": "stream",
     "text": [
      "N =  2401407\n"
     ]
    }
   ],
   "source": [
    "Xs = np.array([x for x in gen_anbncn_poisson(400000)])\n",
    "alphabet = np.unique(Xs)\n",
    "A = len(alphabet)\n",
    "print('N = ',Xs.shape[0])"
   ]
  },
  {
   "cell_type": "markdown",
   "metadata": {},
   "source": [
    "### 2D Cantor plot"
   ]
  },
  {
   "cell_type": "code",
   "execution_count": 51,
   "metadata": {
    "scrolled": true
   },
   "outputs": [
    {
     "name": "stderr",
     "output_type": "stream",
     "text": [
      "Computing Cantor pairs: 100%|████████████| 9987/9987 [00:00<00:00, 23626.58it/s]\n"
     ]
    },
    {
     "data": {
      "image/png": "[encoded data removed]",
      "text/plain": [
       "<Figure size 500x500 with 1 Axes>"
      ]
     },
     "metadata": {},
     "output_type": "display_data"
    }
   ],
   "source": [
    "scatter_cantor(Xs[:10000],figsize=(5,5),LP=7,LF=7)\n",
    "plt.title(r'$\\mathtt{a}^n \\mathtt{b}^n \\mathtt{c}^n$ process',fontfamily='serif')\n",
    "plt.savefig('anbncn_CANTOR.pdf')\n",
    "plt.show()"
   ]
  },
  {
   "cell_type": "markdown",
   "metadata": {},
   "source": [
    "### Clustered Cantor diagram"
   ]
  },
  {
   "cell_type": "code",
   "execution_count": null,
   "metadata": {},
   "outputs": [],
   "source": [
    "unq_pasts,cantors,wass = CantorWasserstein(PF_pairs(Xs,LP=8,LF=8),)"
   ]
  },
  {
   "cell_type": "code",
   "execution_count": null,
   "metadata": {},
   "outputs": [],
   "source": [
    "fig,Z = cluster_cantor(unq_pasts,cantors,wass,color_threshold=0.05,matrix_rect=[0.34,0.1,0.6,0.8],)\n",
    "plt.savefig('anbncn_HCLUST.pdf')\n",
    "plt.show()"
   ]
  },
  {
   "cell_type": "markdown",
   "metadata": {},
   "source": [
    "### MDS Scatter plot (interactive)"
   ]
  },
  {
   "cell_type": "code",
   "execution_count": null,
   "metadata": {},
   "outputs": [],
   "source": [
    "colors_leaves = np.array(Z['leaves_color_list'])\n",
    "colors = np.empty_like(colors_leaves)\n",
    "colors[Z['leaves']] = colors_leaves\n",
    "colors[np.where(colors=='k')] = '#000000'\n",
    "\n",
    "Y = MDS(n_components=2,dissimilarity='precomputed',random_state=0).fit_transform(squareform(wass))\n",
    "unq_pasts_txt = [''.join(s) for s in unq_pasts]\n",
    "fig = go.Figure(\n",
    "    data = [go.Scatter(\n",
    "        x=Y[:,0],y=Y[:,1],mode='markers',hoverinfo='text',text=unq_pasts_txt,\n",
    "        marker_color=colors,marker_opacity=0.5\n",
    "    )],\n",
    ")\n",
    "fig.update_layout(title=r'anbncn process (MDS coordinates)')"
   ]
  },
  {
   "cell_type": "markdown",
   "metadata": {},
   "source": [
    "## $x+f(x)$ process"
   ]
  },
  {
   "cell_type": "markdown",
   "metadata": {},
   "source": [
    "### Generating data from process rules"
   ]
  },
  {
   "cell_type": "code",
   "execution_count": 45,
   "metadata": {},
   "outputs": [],
   "source": [
    "def gen_math_expr(\n",
    "    n_iter:int=10   # Number of math expressions to generate.\n",
    ")->str:\n",
    "    \"\"\"\n",
    "    Generates samples from the x+f(x) process. These are generated using a\n",
    "    probabilistic grammar. n_iter describes the total number of expressions (ending in\n",
    "    a semicolon) that are to be generated. The grammar rules are applied by the\n",
    "    function math_grammar.\n",
    "    \"\"\"\n",
    "    s = 'S;'*n_iter\n",
    "    return reduce(concat,map(math_grammar,s),'')\n",
    "\n",
    "def math_grammar(\n",
    "    b:str           # String to transform with production rules.\n",
    ")->str:\n",
    "    \"\"\"\n",
    "    Probabilistic production rules for the x+f(x) grammar. The user can toggle\n",
    "    the probabilities directly in the function (as these are directly next to\n",
    "    the affected terms, we felt this would be the most intuitive form of\n",
    "    interaction. The currently given values are those used in the paper.)\n",
    "    \"\"\"\n",
    "    if b == 'S':\n",
    "        s = np.random.choice(['S+T','T'],p=[0.3,0.7])\n",
    "        return reduce(concat,map(math_grammar,s),'')\n",
    "    elif b == 'T':\n",
    "        s = np.random.choice(['f(S)','x'],p=[0.5,0.5])\n",
    "        return reduce(concat,map(math_grammar,s),'')\n",
    "    else:\n",
    "        return b"
   ]
  },
  {
   "cell_type": "code",
   "execution_count": 46,
   "metadata": {},
   "outputs": [
    {
     "name": "stdout",
     "output_type": "stream",
     "text": [
      "N =  1000520\n"
     ]
    }
   ],
   "source": [
    "Xs = np.array([x for x in gen_math_expr(80000)])\n",
    "alphabet = np.unique(Xs)\n",
    "A = len(alphabet)\n",
    "print('N = ',Xs.shape[0])"
   ]
  },
  {
   "cell_type": "markdown",
   "metadata": {},
   "source": [
    "### 2D Cantor plot"
   ]
  },
  {
   "cell_type": "code",
   "execution_count": 47,
   "metadata": {},
   "outputs": [
    {
     "name": "stderr",
     "output_type": "stream",
     "text": [
      "Computing Cantor pairs: 100%|████████████| 9987/9987 [00:00<00:00, 23108.55it/s]\n"
     ]
    },
    {
     "data": {
      "image/png": "[encoded data removed]",
      "text/plain": [
       "<Figure size 500x500 with 1 Axes>"
      ]
     },
     "metadata": {},
     "output_type": "display_data"
    }
   ],
   "source": [
    "scatter_cantor(Xs[:10000],LP=7,LF=7,figsize=(5,5))\n",
    "plt.title(r'$\\mathtt{x+f(x)}$ process',fontfamily='serif')\n",
    "plt.savefig('x+f(x)_CANTOR.pdf')\n",
    "plt.show()"
   ]
  },
  {
   "cell_type": "markdown",
   "metadata": {},
   "source": [
    "### Clustered Cantor diagram"
   ]
  },
  {
   "cell_type": "code",
   "execution_count": null,
   "metadata": {},
   "outputs": [],
   "source": [
    "unq_pasts,cantors,wass = CantorWasserstein(PF_pairs(Xs,LP=4,LF=4),)"
   ]
  },
  {
   "cell_type": "code",
   "execution_count": null,
   "metadata": {},
   "outputs": [],
   "source": [
    "fig,Z = cluster_cantor(unq_pasts,cantors,wass,color_threshold=0.7*(1/8)**2)\n",
    "plt.savefig('x+f(x)_HCLUST.pdf')\n",
    "plt.show()"
   ]
  },
  {
   "cell_type": "markdown",
   "metadata": {},
   "source": [
    "### MDS Scatter plot (interactive)"
   ]
  },
  {
   "cell_type": "code",
   "execution_count": null,
   "metadata": {},
   "outputs": [],
   "source": [
    "colors_leaves = np.array(Z['leaves_color_list'])\n",
    "colors = np.empty_like(colors_leaves)\n",
    "colors[Z['leaves']] = colors_leaves\n",
    "colors[np.where(colors=='k')] = '#000000'\n",
    "\n",
    "Y = MDS(n_components=2,dissimilarity='precomputed',random_state=0).fit_transform(squareform(wass))\n",
    "unq_pasts_txt = [''.join(s) for s in unq_pasts]\n",
    "fig = go.Figure(\n",
    "    data = [go.Scatter(\n",
    "        x=Y[:,0],y=Y[:,1],mode='markers',hoverinfo='text',text=unq_pasts_txt,\n",
    "        marker_color=colors,marker_opacity=0.5\n",
    "    )],\n",
    ")\n",
    "fig.update_layout(title=r'x+f(x) process (MDS coordinates)')"
   ]
  },
  {
   "cell_type": "markdown",
   "metadata": {},
   "source": [
    "## Feigenbaum process"
   ]
  },
  {
   "cell_type": "markdown",
   "metadata": {},
   "source": [
    "### Generating data from process rules"
   ]
  },
  {
   "cell_type": "code",
   "execution_count": null,
   "metadata": {},
   "outputs": [],
   "source": [
    "def feig_grammar(\n",
    "    b:str           # String to transform with substitution rules.\n",
    ")->str:\n",
    "    \"\"\"\n",
    "    We hope that the action of this function is self-explanatory.\n",
    "    \"\"\"\n",
    "    if b == '0':\n",
    "        return '11'\n",
    "    elif b == '1':\n",
    "        return '01'\n",
    "\n",
    "def gen_feig_expr(\n",
    "    n_double:int=10     # Number of times to apply substitution rules.\n",
    ")->str:\n",
    "    \"\"\"\n",
    "    Generates samples from the Feigenbaum process using the deterministic\n",
    "    substitution method. This starts with a 0 and forcefully implements the\n",
    "    transformation 0 -> 11 and 1 -> 01 for a specified number of iterations\n",
    "    (n_double). As the name suggests, the total length of the string will scale\n",
    "    as 2^n_double.\n",
    "    \"\"\"\n",
    "    return reduce(lambda s,f:reduce(concat,map(f,s),''),[feig_grammar]*n_double,'0')"
   ]
  },
  {
   "cell_type": "code",
   "execution_count": null,
   "metadata": {},
   "outputs": [],
   "source": [
    "Xs = np.array([x for x in gen_feig_expr(19)])\n",
    "alphabet = np.unique(Xs)\n",
    "A = len(alphabet)\n",
    "print('N = ',Xs.shape[0])"
   ]
  },
  {
   "cell_type": "markdown",
   "metadata": {},
   "source": [
    "### 2D Cantor plot"
   ]
  },
  {
   "cell_type": "code",
   "execution_count": null,
   "metadata": {},
   "outputs": [],
   "source": [
    "scatter_cantor(Xs[:10000],LP=7,LF=7,figsize=(7,7))\n",
    "plt.savefig('feig_CANTOR.pdf')\n",
    "plt.show()"
   ]
  },
  {
   "cell_type": "markdown",
   "metadata": {},
   "source": [
    "### Clustered Cantor plots"
   ]
  },
  {
   "cell_type": "code",
   "execution_count": null,
   "metadata": {},
   "outputs": [],
   "source": [
    "unq_pasts,cantors,wass = CantorWasserstein(PF_pairs(Xs,LP=50,LF=50),)"
   ]
  },
  {
   "cell_type": "code",
   "execution_count": null,
   "metadata": {},
   "outputs": [],
   "source": [
    "fig,Z = cluster_cantor(unq_pasts,cantors,wass,matrix_rect=[0.55,0.1,0.6,0.8],color_threshold=0.07)\n",
    "plt.savefig('feig_HCLUST.pdf')\n",
    "plt.show()"
   ]
  },
  {
   "cell_type": "markdown",
   "metadata": {},
   "source": [
    "### MDS Scatter plot with dynamical comparison (paper figure + interactive)"
   ]
  },
  {
   "cell_type": "markdown",
   "metadata": {},
   "source": [
    "This one will be a little different from the previous process examples: in\n",
    "addition to the MDS scatter plot of predictive states, we will also plot an\n",
    "equivalently color-coded diagram of the corresponding system states in the\n",
    "logistic map system."
   ]
  },
  {
   "cell_type": "code",
   "execution_count": null,
   "metadata": {},
   "outputs": [],
   "source": [
    "colors_leaves = np.array(Z['leaves_color_list'])\n",
    "colors = np.empty_like(colors_leaves)\n",
    "colors[Z['leaves']] = colors_leaves\n",
    "colors[np.where(colors=='k')] = '#000000'\n",
    "\n",
    "Y = MDS(n_components=2,dissimilarity='precomputed',random_state=0).fit_transform(squareform(wass))\n",
    "unq_pasts_txt = [''.join(s) for s in unq_pasts]\n",
    "fig = go.Figure(\n",
    "    data = [go.Scatter(\n",
    "        x=Y[:,0],y=Y[:,1],mode='markers',hoverinfo='text',text=unq_pasts_txt,\n",
    "        marker_color=colors,marker_opacity=0.5\n",
    "    )],\n",
    ")\n",
    "fig.update_layout(title=r'Feigenbaum process (MDS coordinates)')"
   ]
  },
  {
   "cell_type": "markdown",
   "metadata": {},
   "source": [
    "Now, for the logistic map parameter $r = 3.56995$, we iterate the logistic map\n",
    "process\n",
    "$$\n",
    "y_{t+1} = ry_t(1-y_t)\n",
    "$$\n",
    "over 10000 samples randomly initialized from $[0,1]$ uniformly. We iterate\n",
    "`blind_iter` number of times to get \"onto the attractor,\" and then iterate again\n",
    "`vis_iter` times, only this time we record a $0$ if $y_t<1/2$ and a $1$ if\n",
    "$y_t>1/2$. This results in a `vis_iter`-length string of symbols for each of the\n",
    "10000 samples. The unique set of these strings corresponds to the unique pasts\n",
    "of length `vis_iter` from the Feigenbaum process (this is, after all, how the\n",
    "Feigenbuam process is traditionally generated). We choose `vis_iter` to equal 50\n",
    "here because that was the past length we chose to compute the Wasserestein\n",
    "distances at. We plot our 10000 samples below, with each sampled by whichever\n",
    "cluster its symbol string belongs to according to the dendrogram plotted above."
   ]
  },
  {
   "cell_type": "code",
   "execution_count": null,
   "metadata": {},
   "outputs": [],
   "source": [
    "r = 3.56995\n",
    "y = np.random.rand(10000)\n",
    "blind_iter = 5000\n",
    "vis_iter = 50\n",
    "samples = ['']*len(y)\n",
    "for _ in range(blind_iter):\n",
    "    y = r*y*(1-y)\n",
    "for _ in range(vis_iter):\n",
    "    y = r*y*(1-y)\n",
    "    samples = [s1+s2 for s1,s2 in zip(samples,((y>0.5).astype(int)).astype(str))]\n",
    "samples = np.array(samples)\n",
    "\n",
    "sample_colors = colors[[np.where(np.array(unq_pasts_txt)==s)[0][0] for s in samples]]\n",
    "\n",
    "fig = go.Figure(\n",
    "    data = [go.Scatter(\n",
    "        x=y,y=r*y*(1-y),mode='markers',hoverinfo='text',text=samples,\n",
    "        marker_color=sample_colors,marker_opacity=0.1\n",
    "    )],\n",
    ")\n",
    "fig.update_layout(\n",
    "    title=r'Feigenbaum process (MDS coordinates)',\n",
    "    yaxis=dict(title=r'ry(1-y)'),\n",
    "    xaxis=dict(title=r'y')\n",
    ")\n"
   ]
  },
  {
   "cell_type": "markdown",
   "metadata": {},
   "source": [
    "For the paper, we displayed both plots side-by-side, with additional visual aid\n",
    "in the form of color-coded arrows showing where each cluster gets mapped in the\n",
    "logistic domain. These arrows must be colored manually to match the colors\n",
    "assigned to the clusters. It is possible, but not likely, that this assignment may change due to\n",
    "fluctuations in the data prompting the dendrogram to order the clusters slightly differently."
   ]
  },
  {
   "cell_type": "code",
   "execution_count": null,
   "metadata": {},
   "outputs": [],
   "source": [
    "\n",
    "plt.rcParams['text.usetex'] = False\n",
    "\n",
    "fig,axs = plt.subplots(1,2,figsize=(17,4),gridspec_kw=dict(width_ratios=[3,1]))\n",
    "\n",
    "axs[0].scatter(Y[:,0],Y[:,1],edgecolor='k',alpha=0.5,c=colors,cmap='Set1')\n",
    "axs[0].set_title('Clustered reconstructed states (MDS coordinates)',fontsize=14,fontfamily='serif')\n",
    "\n",
    "xrange = np.linspace(np.min(y),np.max(y),2)\n",
    "axs[1].scatter(y,r*y*(1-y),edgecolor='k',linewidth=0.5,alpha=0.01,c=sample_colors,cmap='Set1')\n",
    "axs[1].plot(xrange,xrange,c='k',linewidth=1,linestyle=':')\n",
    "axs[1].set_ylabel(r'$y_{t+1}\\ =\\ ry_t(1-y_t)$',fontsize=12,fontfamily='serif')\n",
    "axs[1].set_xlabel(r'$y_t$',fontsize=12,fontfamily='serif')\n",
    "axs[1].set_title(r'Actual logistic map states & dynamics',fontsize=14,fontfamily='serif')\n",
    "\n",
    "lax = axs[1]\n",
    "alpha=0.3\n",
    "lax.annotate('', xy=(0.88, 0.89),  xycoords='data',\n",
    "            xytext=(0.58, 0.89), textcoords='data',\n",
    "            arrowprops=dict(facecolor=cmap[2],alpha=alpha, width=2,headwidth=5),\n",
    "            horizontalalignment='right', verticalalignment='top',\n",
    "            )\n",
    "lax.annotate('', xy=(0.89, 0.4),  xycoords='data',\n",
    "            xytext=(0.89, 0.88), textcoords='data',\n",
    "            arrowprops=dict(facecolor=cmap[2],alpha=alpha, width=2,headwidth=5),\n",
    "            horizontalalignment='right', verticalalignment='top',\n",
    "            )\n",
    "lax.annotate('', xy=(0.87, 0.88),  xycoords='data',\n",
    "            xytext=(0.58, 0.88), textcoords='data',\n",
    "            arrowprops=dict(facecolor=cmap[3],alpha=alpha, width=2,headwidth=5),\n",
    "            horizontalalignment='right', verticalalignment='top',\n",
    "            )\n",
    "lax.annotate('', xy=(0.88, 0.4),  xycoords='data',\n",
    "            xytext=(0.88, 0.87), textcoords='data',\n",
    "            arrowprops=dict(facecolor=cmap[3],alpha=alpha, width=2,headwidth=5),\n",
    "            horizontalalignment='right', verticalalignment='top',\n",
    "            )\n",
    "lax.annotate('', xy=(0.835, 0.845),  xycoords='data',\n",
    "            xytext=(0.41, 0.845), textcoords='data',\n",
    "            arrowprops=dict(facecolor=cmap[3],alpha=alpha, width=2,headwidth=5),\n",
    "            horizontalalignment='right', verticalalignment='top',\n",
    "            )\n",
    "lax.annotate('', xy=(0.845, 0.5),  xycoords='data',\n",
    "            xytext=(0.845, 0.835), textcoords='data',\n",
    "            arrowprops=dict(facecolor=cmap[3],alpha=alpha, width=2,headwidth=5),\n",
    "            horizontalalignment='right', verticalalignment='top',\n",
    "            )\n",
    "\n",
    "lax.annotate('', xy=(0.81, 0.82),  xycoords='data',\n",
    "            xytext=(0.39, 0.82), textcoords='data',\n",
    "            arrowprops=dict(facecolor=cmap[4],alpha=alpha, width=2,headwidth=5),\n",
    "            horizontalalignment='right', verticalalignment='top',\n",
    "            )\n",
    "lax.annotate('', xy=(0.82, 0.58),  xycoords='data',\n",
    "            xytext=(0.82, 0.81), textcoords='data',\n",
    "            arrowprops=dict(facecolor=cmap[4],alpha=alpha, width=2,headwidth=5),\n",
    "            horizontalalignment='right', verticalalignment='top',\n",
    "            )\n",
    "lax.annotate('', xy=(0.54, 0.53),  xycoords='data',\n",
    "            xytext=(0.8, 0.53), textcoords='data',\n",
    "            arrowprops=dict(facecolor=cmap[5],alpha=alpha, width=2,headwidth=5),\n",
    "            horizontalalignment='right', verticalalignment='top',\n",
    "            )\n",
    "lax.annotate('', xy=(0.53, 0.86),  xycoords='data',\n",
    "            xytext=(0.53, 0.54), textcoords='data',\n",
    "            arrowprops=dict(facecolor=cmap[5],alpha=alpha, width=2,headwidth=5),\n",
    "            horizontalalignment='right', verticalalignment='top',\n",
    "            )\n",
    "\n",
    "lax.annotate('', xy=(0.49, 0.48),  xycoords='data',\n",
    "            xytext=(0.81, 0.48), textcoords='data',\n",
    "            arrowprops=dict(facecolor=cmap[1],alpha=alpha, width=2,headwidth=5),\n",
    "            horizontalalignment='right', verticalalignment='top',\n",
    "            )\n",
    "lax.annotate('', xy=(0.48, 0.87),  xycoords='data',\n",
    "            xytext=(0.48, 0.49), textcoords='data',\n",
    "            arrowprops=dict(facecolor=cmap[1],alpha=alpha, width=2,headwidth=5),\n",
    "            horizontalalignment='right', verticalalignment='top',\n",
    "            )\n",
    "lax.annotate('', xy=(0.39, 0.38),  xycoords='data',\n",
    "            xytext=(0.86, 0.38), textcoords='data',\n",
    "            arrowprops=dict(facecolor=cmap[1],alpha=alpha, width=2,headwidth=5),\n",
    "            horizontalalignment='right', verticalalignment='top',\n",
    "            )\n",
    "lax.annotate('', xy=(0.38, 0.8),  xycoords='data',\n",
    "            xytext=(0.38, 0.39), textcoords='data',\n",
    "            arrowprops=dict(facecolor=cmap[1],alpha=alpha, width=2,headwidth=5),\n",
    "            horizontalalignment='right', verticalalignment='top',\n",
    "            )\n",
    "lax.annotate('', xy=(0.37, 0.36),  xycoords='data',\n",
    "            xytext=(0.87, 0.36), textcoords='data',\n",
    "            arrowprops=dict(facecolor=cmap[0],alpha=alpha, width=2,headwidth=5),\n",
    "            horizontalalignment='right', verticalalignment='top',\n",
    "            )\n",
    "lax.annotate('', xy=(0.36, 0.79),  xycoords='data',\n",
    "            xytext=(0.36, 0.37), textcoords='data',\n",
    "            arrowprops=dict(facecolor=cmap[0],alpha=alpha, width=2,headwidth=5),\n",
    "            horizontalalignment='right', verticalalignment='top',\n",
    "            )\n",
    "plt.savefig('feig_MDS.pdf',bbox_inches='tight')\n",
    "plt.show()"
   ]
  },
  {
   "cell_type": "code",
   "execution_count": null,
   "metadata": {},
   "outputs": [],
   "source": []
  }
 ],
 "metadata": {
  "kernelspec": {
   "display_name": "Python 3 (ipykernel)",
   "language": "python",
   "name": "python3"
  },
  "language_info": {
   "codemirror_mode": {
    "name": "ipython",
    "version": 3
   },
   "file_extension": ".py",
   "mimetype": "text/x-python",
   "name": "python",
   "nbconvert_exporter": "python",
   "pygments_lexer": "ipython3",
   "version": "3.10.8"
  },
  "vscode": {
   "interpreter": {
    "hash": "e03b612d84ba21ce95ed447e81b3062e1eb99b56c6d885cdab4aaa12f1b8e240"
   }
  }
 },
 "nbformat": 4,
 "nbformat_minor": 2
}
